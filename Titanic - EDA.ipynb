{
 "cells": [
  {
   "cell_type": "markdown",
   "metadata": {},
   "source": [
    "# Titanic"
   ]
  },
  {
   "cell_type": "code",
   "execution_count": 1,
   "metadata": {},
   "outputs": [
    {
     "data": {
      "text/html": [
       "<img src=\"https://bit.ly/2HCKyas\"/>"
      ],
      "text/plain": [
       "<IPython.core.display.Image object>"
      ]
     },
     "execution_count": 1,
     "metadata": {},
     "output_type": "execute_result"
    }
   ],
   "source": [
    "from IPython.display import Image\n",
    "from IPython.core.display import HTML \n",
    "Image(url= 'https://bit.ly/2HCKyas')"
   ]
  },
  {
   "cell_type": "markdown",
   "metadata": {},
   "source": [
    "### Introduction "
   ]
  },
  {
   "cell_type": "markdown",
   "metadata": {},
   "source": [
    "Titanic was a British passenger liner that sank in the North Atlantic Ocean in 1912, after colliding with an iceberg during her maiden voyage from Southampton to New York City. Of the estimated 2,224 passengers and crew aboard, more than 1,500 died, making it one of modern history's deadliest commercial marine disasters during peacetime.\n",
    "\n",
    "The dataset we are going to work with contains demographics and passenger information from 891 passengers and crew on board of the Titanic. \n",
    "\n",
    "The Titanic dataset has the following attributes:\n",
    "\n",
    "PassengerId: Unique identifier for passengers\n",
    "Survived: Survival (0 = No; 1 = Yes)\n",
    "Pclass: Passenger Class (1 = 1st; 2 = 2nd; 3 = 3rd)\n",
    "Name: Name\n",
    "Sex: Sex\n",
    "Age: Age\n",
    "SibSp: Number of Siblings/Spouses Aboard\n",
    "Parch: Number of Parents/Children Aboard\n",
    "Ticket: Ticket Number\n",
    "Fare: Passenger Fare\n",
    "Cabin: Cabin\n",
    "Embarked: Port of Embarkation (C = Cherbourg; Q = Queenstown; S = Southampton)"
   ]
  },
  {
   "cell_type": "markdown",
   "metadata": {},
   "source": [
    "### Import Libraries "
   ]
  },
  {
   "cell_type": "code",
   "execution_count": 2,
   "metadata": {},
   "outputs": [],
   "source": [
    "# Importing pandas and Series + DataFrame:\n",
    "import pandas as pd\n",
    "from pandas import Series, DataFrame\n",
    "\n",
    "# Importing numpy, matplotlib and seaborn:\n",
    "import numpy as np\n",
    "import matplotlib.pyplot as plt\n",
    "import seaborn as sns\n",
    "%matplotlib inline"
   ]
  },
  {
   "cell_type": "markdown",
   "metadata": {},
   "source": [
    "### Import the Data "
   ]
  },
  {
   "cell_type": "markdown",
   "metadata": {},
   "source": [
    "The following code loads data from our csv file into jupyter notebook and sets it as a DataFrame:"
   ]
  },
  {
   "cell_type": "code",
   "execution_count": 3,
   "metadata": {},
   "outputs": [],
   "source": [
    "titanic_df = pd.read_csv('titanic_train.csv')"
   ]
  },
  {
   "cell_type": "markdown",
   "metadata": {},
   "source": [
    "Explore your dataset:"
   ]
  },
  {
   "cell_type": "code",
   "execution_count": 4,
   "metadata": {},
   "outputs": [
    {
     "data": {
      "text/html": [
       "<div>\n",
       "<style scoped>\n",
       "    .dataframe tbody tr th:only-of-type {\n",
       "        vertical-align: middle;\n",
       "    }\n",
       "\n",
       "    .dataframe tbody tr th {\n",
       "        vertical-align: top;\n",
       "    }\n",
       "\n",
       "    .dataframe thead th {\n",
       "        text-align: right;\n",
       "    }\n",
       "</style>\n",
       "<table border=\"1\" class=\"dataframe\">\n",
       "  <thead>\n",
       "    <tr style=\"text-align: right;\">\n",
       "      <th></th>\n",
       "      <th>PassengerId</th>\n",
       "      <th>Survived</th>\n",
       "      <th>Pclass</th>\n",
       "      <th>Name</th>\n",
       "      <th>Sex</th>\n",
       "      <th>Age</th>\n",
       "      <th>SibSp</th>\n",
       "      <th>Parch</th>\n",
       "      <th>Ticket</th>\n",
       "      <th>Fare</th>\n",
       "      <th>Cabin</th>\n",
       "      <th>Embarked</th>\n",
       "    </tr>\n",
       "  </thead>\n",
       "  <tbody>\n",
       "    <tr>\n",
       "      <th>0</th>\n",
       "      <td>1</td>\n",
       "      <td>0</td>\n",
       "      <td>3</td>\n",
       "      <td>Braund, Mr. Owen Harris</td>\n",
       "      <td>male</td>\n",
       "      <td>22.0</td>\n",
       "      <td>1</td>\n",
       "      <td>0</td>\n",
       "      <td>A/5 21171</td>\n",
       "      <td>7.2500</td>\n",
       "      <td>NaN</td>\n",
       "      <td>S</td>\n",
       "    </tr>\n",
       "    <tr>\n",
       "      <th>1</th>\n",
       "      <td>2</td>\n",
       "      <td>1</td>\n",
       "      <td>1</td>\n",
       "      <td>Cumings, Mrs. John Bradley (Florence Briggs Th...</td>\n",
       "      <td>female</td>\n",
       "      <td>38.0</td>\n",
       "      <td>1</td>\n",
       "      <td>0</td>\n",
       "      <td>PC 17599</td>\n",
       "      <td>71.2833</td>\n",
       "      <td>C85</td>\n",
       "      <td>C</td>\n",
       "    </tr>\n",
       "    <tr>\n",
       "      <th>2</th>\n",
       "      <td>3</td>\n",
       "      <td>1</td>\n",
       "      <td>3</td>\n",
       "      <td>Heikkinen, Miss. Laina</td>\n",
       "      <td>female</td>\n",
       "      <td>26.0</td>\n",
       "      <td>0</td>\n",
       "      <td>0</td>\n",
       "      <td>STON/O2. 3101282</td>\n",
       "      <td>7.9250</td>\n",
       "      <td>NaN</td>\n",
       "      <td>S</td>\n",
       "    </tr>\n",
       "    <tr>\n",
       "      <th>3</th>\n",
       "      <td>4</td>\n",
       "      <td>1</td>\n",
       "      <td>1</td>\n",
       "      <td>Futrelle, Mrs. Jacques Heath (Lily May Peel)</td>\n",
       "      <td>female</td>\n",
       "      <td>35.0</td>\n",
       "      <td>1</td>\n",
       "      <td>0</td>\n",
       "      <td>113803</td>\n",
       "      <td>53.1000</td>\n",
       "      <td>C123</td>\n",
       "      <td>S</td>\n",
       "    </tr>\n",
       "    <tr>\n",
       "      <th>4</th>\n",
       "      <td>5</td>\n",
       "      <td>0</td>\n",
       "      <td>3</td>\n",
       "      <td>Allen, Mr. William Henry</td>\n",
       "      <td>male</td>\n",
       "      <td>35.0</td>\n",
       "      <td>0</td>\n",
       "      <td>0</td>\n",
       "      <td>373450</td>\n",
       "      <td>8.0500</td>\n",
       "      <td>NaN</td>\n",
       "      <td>S</td>\n",
       "    </tr>\n",
       "  </tbody>\n",
       "</table>\n",
       "</div>"
      ],
      "text/plain": [
       "   PassengerId  Survived  Pclass  \\\n",
       "0            1         0       3   \n",
       "1            2         1       1   \n",
       "2            3         1       3   \n",
       "3            4         1       1   \n",
       "4            5         0       3   \n",
       "\n",
       "                                                Name     Sex   Age  SibSp  \\\n",
       "0                            Braund, Mr. Owen Harris    male  22.0      1   \n",
       "1  Cumings, Mrs. John Bradley (Florence Briggs Th...  female  38.0      1   \n",
       "2                             Heikkinen, Miss. Laina  female  26.0      0   \n",
       "3       Futrelle, Mrs. Jacques Heath (Lily May Peel)  female  35.0      1   \n",
       "4                           Allen, Mr. William Henry    male  35.0      0   \n",
       "\n",
       "   Parch            Ticket     Fare Cabin Embarked  \n",
       "0      0         A/5 21171   7.2500   NaN        S  \n",
       "1      0          PC 17599  71.2833   C85        C  \n",
       "2      0  STON/O2. 3101282   7.9250   NaN        S  \n",
       "3      0            113803  53.1000  C123        S  \n",
       "4      0            373450   8.0500   NaN        S  "
      ]
     },
     "execution_count": 4,
     "metadata": {},
     "output_type": "execute_result"
    }
   ],
   "source": [
    "# A short preview of our data from Titanic file (displays first 5 rows):\n",
    "titanic_df.head()"
   ]
  },
  {
   "cell_type": "code",
   "execution_count": 5,
   "metadata": {},
   "outputs": [
    {
     "data": {
      "text/html": [
       "<div>\n",
       "<style scoped>\n",
       "    .dataframe tbody tr th:only-of-type {\n",
       "        vertical-align: middle;\n",
       "    }\n",
       "\n",
       "    .dataframe tbody tr th {\n",
       "        vertical-align: top;\n",
       "    }\n",
       "\n",
       "    .dataframe thead th {\n",
       "        text-align: right;\n",
       "    }\n",
       "</style>\n",
       "<table border=\"1\" class=\"dataframe\">\n",
       "  <thead>\n",
       "    <tr style=\"text-align: right;\">\n",
       "      <th></th>\n",
       "      <th>PassengerId</th>\n",
       "      <th>Survived</th>\n",
       "      <th>Pclass</th>\n",
       "      <th>Age</th>\n",
       "      <th>SibSp</th>\n",
       "      <th>Parch</th>\n",
       "      <th>Fare</th>\n",
       "    </tr>\n",
       "  </thead>\n",
       "  <tbody>\n",
       "    <tr>\n",
       "      <th>count</th>\n",
       "      <td>891.000000</td>\n",
       "      <td>891.000000</td>\n",
       "      <td>891.000000</td>\n",
       "      <td>714.000000</td>\n",
       "      <td>891.000000</td>\n",
       "      <td>891.000000</td>\n",
       "      <td>891.000000</td>\n",
       "    </tr>\n",
       "    <tr>\n",
       "      <th>mean</th>\n",
       "      <td>446.000000</td>\n",
       "      <td>0.383838</td>\n",
       "      <td>2.308642</td>\n",
       "      <td>29.699118</td>\n",
       "      <td>0.523008</td>\n",
       "      <td>0.381594</td>\n",
       "      <td>32.204208</td>\n",
       "    </tr>\n",
       "    <tr>\n",
       "      <th>std</th>\n",
       "      <td>257.353842</td>\n",
       "      <td>0.486592</td>\n",
       "      <td>0.836071</td>\n",
       "      <td>14.526497</td>\n",
       "      <td>1.102743</td>\n",
       "      <td>0.806057</td>\n",
       "      <td>49.693429</td>\n",
       "    </tr>\n",
       "    <tr>\n",
       "      <th>min</th>\n",
       "      <td>1.000000</td>\n",
       "      <td>0.000000</td>\n",
       "      <td>1.000000</td>\n",
       "      <td>0.420000</td>\n",
       "      <td>0.000000</td>\n",
       "      <td>0.000000</td>\n",
       "      <td>0.000000</td>\n",
       "    </tr>\n",
       "    <tr>\n",
       "      <th>25%</th>\n",
       "      <td>223.500000</td>\n",
       "      <td>0.000000</td>\n",
       "      <td>2.000000</td>\n",
       "      <td>20.125000</td>\n",
       "      <td>0.000000</td>\n",
       "      <td>0.000000</td>\n",
       "      <td>7.910400</td>\n",
       "    </tr>\n",
       "    <tr>\n",
       "      <th>50%</th>\n",
       "      <td>446.000000</td>\n",
       "      <td>0.000000</td>\n",
       "      <td>3.000000</td>\n",
       "      <td>28.000000</td>\n",
       "      <td>0.000000</td>\n",
       "      <td>0.000000</td>\n",
       "      <td>14.454200</td>\n",
       "    </tr>\n",
       "    <tr>\n",
       "      <th>75%</th>\n",
       "      <td>668.500000</td>\n",
       "      <td>1.000000</td>\n",
       "      <td>3.000000</td>\n",
       "      <td>38.000000</td>\n",
       "      <td>1.000000</td>\n",
       "      <td>0.000000</td>\n",
       "      <td>31.000000</td>\n",
       "    </tr>\n",
       "    <tr>\n",
       "      <th>max</th>\n",
       "      <td>891.000000</td>\n",
       "      <td>1.000000</td>\n",
       "      <td>3.000000</td>\n",
       "      <td>80.000000</td>\n",
       "      <td>8.000000</td>\n",
       "      <td>6.000000</td>\n",
       "      <td>512.329200</td>\n",
       "    </tr>\n",
       "  </tbody>\n",
       "</table>\n",
       "</div>"
      ],
      "text/plain": [
       "       PassengerId    Survived      Pclass         Age       SibSp  \\\n",
       "count   891.000000  891.000000  891.000000  714.000000  891.000000   \n",
       "mean    446.000000    0.383838    2.308642   29.699118    0.523008   \n",
       "std     257.353842    0.486592    0.836071   14.526497    1.102743   \n",
       "min       1.000000    0.000000    1.000000    0.420000    0.000000   \n",
       "25%     223.500000    0.000000    2.000000   20.125000    0.000000   \n",
       "50%     446.000000    0.000000    3.000000   28.000000    0.000000   \n",
       "75%     668.500000    1.000000    3.000000   38.000000    1.000000   \n",
       "max     891.000000    1.000000    3.000000   80.000000    8.000000   \n",
       "\n",
       "            Parch        Fare  \n",
       "count  891.000000  891.000000  \n",
       "mean     0.381594   32.204208  \n",
       "std      0.806057   49.693429  \n",
       "min      0.000000    0.000000  \n",
       "25%      0.000000    7.910400  \n",
       "50%      0.000000   14.454200  \n",
       "75%      0.000000   31.000000  \n",
       "max      6.000000  512.329200  "
      ]
     },
     "execution_count": 5,
     "metadata": {},
     "output_type": "execute_result"
    }
   ],
   "source": [
    "# To display basic stats for columns filled in with numerical values:\n",
    "titanic_df.describe()"
   ]
  },
  {
   "cell_type": "code",
   "execution_count": 6,
   "metadata": {},
   "outputs": [
    {
     "data": {
      "text/plain": [
       "<matplotlib.axes._subplots.AxesSubplot at 0x11a869400>"
      ]
     },
     "execution_count": 6,
     "metadata": {},
     "output_type": "execute_result"
    },
    {
     "data": {
      "image/png": "[encoded data removed]",
      "text/plain": [
       "<Figure size 432x288 with 1 Axes>"
      ]
     },
     "metadata": {
      "needs_background": "light"
     },
     "output_type": "display_data"
    }
   ],
   "source": [
    "# Heatmap for visualising missing data:\n",
    "sns.heatmap(titanic_df.isnull(), yticklabels = False, cbar = False, cmap = 'plasma')"
   ]
  },
  {
   "cell_type": "markdown",
   "metadata": {},
   "source": [
    "In our Titanic dataset we have missing data in Age and Cabin columns."
   ]
  },
  {
   "cell_type": "markdown",
   "metadata": {},
   "source": [
    "### Data Cleaning"
   ]
  },
  {
   "cell_type": "markdown",
   "metadata": {},
   "source": [
    "Looking at the visualisation above - heatmap, we can see that some values, such as age and cabin are missing. We will try to estimate those missing values and add them to our dataset."
   ]
  },
  {
   "cell_type": "markdown",
   "metadata": {},
   "source": [
    "##### Filling in Missing Age values"
   ]
  },
  {
   "cell_type": "code",
   "execution_count": 7,
   "metadata": {},
   "outputs": [
    {
     "name": "stdout",
     "output_type": "stream",
     "text": [
      "Number of rows where Age data is missing: 177\n",
      "Percentage of Age data missing: 19.865319865319865\n"
     ]
    }
   ],
   "source": [
    "print('Number of rows where Age data is missing: ' + str(titanic_df.Age.isnull().sum()))\n",
    "print('Percentage of Age data missing: ' + str(titanic_df.Age.isnull().sum()/len(titanic_df.Age)*100))"
   ]
  },
  {
   "cell_type": "markdown",
   "metadata": {},
   "source": [
    "Our first data filling will be related to the passengers' age. We will use groupped data for Sex, Pclass and Title. This should give us more accurate ages, than just simply filling NaN values with the average age of known ages. \n",
    "\n",
    "In the next step we will show that we have 17 different titles used in names and try to map them to 6 main categories: Mr, Miss, Mrs, Master, Officer and Royalty."
   ]
  },
  {
   "cell_type": "code",
   "execution_count": 8,
   "metadata": {},
   "outputs": [
    {
     "data": {
      "text/plain": [
       "array(['Mr', 'Mrs', 'Miss', 'Master', 'Don', 'Rev', 'Dr', 'Mme', 'Ms',\n",
       "       'Major', 'Lady', 'Sir', 'Mlle', 'Col', 'Capt', 'the Countess',\n",
       "       'Jonkheer'], dtype=object)"
      ]
     },
     "execution_count": 8,
     "metadata": {},
     "output_type": "execute_result"
    }
   ],
   "source": [
    "# What are different titles on the board of Titanic?\n",
    "titanic_df.Name.apply(lambda name: name.split(',')[1].split('.')[0].strip()).unique()"
   ]
  },
  {
   "cell_type": "code",
   "execution_count": 9,
   "metadata": {},
   "outputs": [],
   "source": [
    "# We create new feature 'Title' in our dataset, and we map our 17 titles to 6 main categories:\n",
    "titanic_df['Title'] = titanic_df.Name.apply(lambda name: name.split(',')[1].split('.')[0].strip())"
   ]
  },
  {
   "cell_type": "code",
   "execution_count": 10,
   "metadata": {},
   "outputs": [],
   "source": [
    "# Normalise the titles:\n",
    "normalised_titles = {'Mr':'Mr', 'Mrs':'Mrs', 'Miss':'Miss', 'Master':'Master', 'Don':'Royalty', 'Rev':'Officer', \n",
    "                     'Dr':'Officer', 'Mme':'Mrs', 'Ms':'Mrs', 'Major':'Officer', 'Lady':'Royalty', 'Sir':'Royalty',  \n",
    "                     'Mlle':'Miss', 'Col':'Officer', 'Capt':'Officer', 'the Countess':'Royalty', 'Jonkheer':'Royalty',\n",
    "                     'Dona':'Royalty'}"
   ]
  },
  {
   "cell_type": "code",
   "execution_count": 11,
   "metadata": {},
   "outputs": [],
   "source": [
    "# Map normalised titles to the current titles:\n",
    "titanic_df['Title'] = titanic_df['Title'].map(normalised_titles)"
   ]
  },
  {
   "cell_type": "code",
   "execution_count": 12,
   "metadata": {},
   "outputs": [
    {
     "data": {
      "text/html": [
       "<div>\n",
       "<style scoped>\n",
       "    .dataframe tbody tr th:only-of-type {\n",
       "        vertical-align: middle;\n",
       "    }\n",
       "\n",
       "    .dataframe tbody tr th {\n",
       "        vertical-align: top;\n",
       "    }\n",
       "\n",
       "    .dataframe thead th {\n",
       "        text-align: right;\n",
       "    }\n",
       "</style>\n",
       "<table border=\"1\" class=\"dataframe\">\n",
       "  <thead>\n",
       "    <tr style=\"text-align: right;\">\n",
       "      <th></th>\n",
       "      <th>PassengerId</th>\n",
       "      <th>Survived</th>\n",
       "      <th>Pclass</th>\n",
       "      <th>Name</th>\n",
       "      <th>Sex</th>\n",
       "      <th>Age</th>\n",
       "      <th>SibSp</th>\n",
       "      <th>Parch</th>\n",
       "      <th>Ticket</th>\n",
       "      <th>Fare</th>\n",
       "      <th>Cabin</th>\n",
       "      <th>Embarked</th>\n",
       "      <th>Title</th>\n",
       "    </tr>\n",
       "  </thead>\n",
       "  <tbody>\n",
       "    <tr>\n",
       "      <th>0</th>\n",
       "      <td>1</td>\n",
       "      <td>0</td>\n",
       "      <td>3</td>\n",
       "      <td>Braund, Mr. Owen Harris</td>\n",
       "      <td>male</td>\n",
       "      <td>22.0</td>\n",
       "      <td>1</td>\n",
       "      <td>0</td>\n",
       "      <td>A/5 21171</td>\n",
       "      <td>7.2500</td>\n",
       "      <td>NaN</td>\n",
       "      <td>S</td>\n",
       "      <td>Mr</td>\n",
       "    </tr>\n",
       "    <tr>\n",
       "      <th>1</th>\n",
       "      <td>2</td>\n",
       "      <td>1</td>\n",
       "      <td>1</td>\n",
       "      <td>Cumings, Mrs. John Bradley (Florence Briggs Th...</td>\n",
       "      <td>female</td>\n",
       "      <td>38.0</td>\n",
       "      <td>1</td>\n",
       "      <td>0</td>\n",
       "      <td>PC 17599</td>\n",
       "      <td>71.2833</td>\n",
       "      <td>C85</td>\n",
       "      <td>C</td>\n",
       "      <td>Mrs</td>\n",
       "    </tr>\n",
       "    <tr>\n",
       "      <th>2</th>\n",
       "      <td>3</td>\n",
       "      <td>1</td>\n",
       "      <td>3</td>\n",
       "      <td>Heikkinen, Miss. Laina</td>\n",
       "      <td>female</td>\n",
       "      <td>26.0</td>\n",
       "      <td>0</td>\n",
       "      <td>0</td>\n",
       "      <td>STON/O2. 3101282</td>\n",
       "      <td>7.9250</td>\n",
       "      <td>NaN</td>\n",
       "      <td>S</td>\n",
       "      <td>Miss</td>\n",
       "    </tr>\n",
       "    <tr>\n",
       "      <th>3</th>\n",
       "      <td>4</td>\n",
       "      <td>1</td>\n",
       "      <td>1</td>\n",
       "      <td>Futrelle, Mrs. Jacques Heath (Lily May Peel)</td>\n",
       "      <td>female</td>\n",
       "      <td>35.0</td>\n",
       "      <td>1</td>\n",
       "      <td>0</td>\n",
       "      <td>113803</td>\n",
       "      <td>53.1000</td>\n",
       "      <td>C123</td>\n",
       "      <td>S</td>\n",
       "      <td>Mrs</td>\n",
       "    </tr>\n",
       "    <tr>\n",
       "      <th>4</th>\n",
       "      <td>5</td>\n",
       "      <td>0</td>\n",
       "      <td>3</td>\n",
       "      <td>Allen, Mr. William Henry</td>\n",
       "      <td>male</td>\n",
       "      <td>35.0</td>\n",
       "      <td>0</td>\n",
       "      <td>0</td>\n",
       "      <td>373450</td>\n",
       "      <td>8.0500</td>\n",
       "      <td>NaN</td>\n",
       "      <td>S</td>\n",
       "      <td>Mr</td>\n",
       "    </tr>\n",
       "  </tbody>\n",
       "</table>\n",
       "</div>"
      ],
      "text/plain": [
       "   PassengerId  Survived  Pclass  \\\n",
       "0            1         0       3   \n",
       "1            2         1       1   \n",
       "2            3         1       3   \n",
       "3            4         1       1   \n",
       "4            5         0       3   \n",
       "\n",
       "                                                Name     Sex   Age  SibSp  \\\n",
       "0                            Braund, Mr. Owen Harris    male  22.0      1   \n",
       "1  Cumings, Mrs. John Bradley (Florence Briggs Th...  female  38.0      1   \n",
       "2                             Heikkinen, Miss. Laina  female  26.0      0   \n",
       "3       Futrelle, Mrs. Jacques Heath (Lily May Peel)  female  35.0      1   \n",
       "4                           Allen, Mr. William Henry    male  35.0      0   \n",
       "\n",
       "   Parch            Ticket     Fare Cabin Embarked Title  \n",
       "0      0         A/5 21171   7.2500   NaN        S    Mr  \n",
       "1      0          PC 17599  71.2833   C85        C   Mrs  \n",
       "2      0  STON/O2. 3101282   7.9250   NaN        S  Miss  \n",
       "3      0            113803  53.1000  C123        S   Mrs  \n",
       "4      0            373450   8.0500   NaN        S    Mr  "
      ]
     },
     "execution_count": 12,
     "metadata": {},
     "output_type": "execute_result"
    }
   ],
   "source": [
    "# Check the new column 'Title' in titanic dataset: \n",
    "titanic_df.head()"
   ]
  },
  {
   "cell_type": "code",
   "execution_count": 13,
   "metadata": {},
   "outputs": [
    {
     "name": "stdout",
     "output_type": "stream",
     "text": [
      "Mr         517\n",
      "Miss       184\n",
      "Mrs        127\n",
      "Master      40\n",
      "Officer     18\n",
      "Royalty      5\n",
      "Name: Title, dtype: int64\n"
     ]
    }
   ],
   "source": [
    "print(titanic_df['Title'].value_counts())"
   ]
  },
  {
   "cell_type": "markdown",
   "metadata": {},
   "source": [
    "There are 177 NaN values for passengers' age. We will now try to estimate those missing values, by using groupped data and averages."
   ]
  },
  {
   "cell_type": "code",
   "execution_count": 14,
   "metadata": {},
   "outputs": [],
   "source": [
    "# Group by Sex, Pclass and title:\n",
    "group = titanic_df.groupby(['Sex', 'Pclass', 'Title'])"
   ]
  },
  {
   "cell_type": "code",
   "execution_count": 15,
   "metadata": {},
   "outputs": [
    {
     "data": {
      "text/plain": [
       "Sex     Pclass  Title  \n",
       "female  1       Miss       30.0\n",
       "                Mrs        40.0\n",
       "                Officer    49.0\n",
       "                Royalty    40.5\n",
       "        2       Miss       24.0\n",
       "                Mrs        31.5\n",
       "        3       Miss       18.0\n",
       "                Mrs        31.0\n",
       "male    1       Master      4.0\n",
       "                Mr         40.0\n",
       "                Officer    51.0\n",
       "                Royalty    40.0\n",
       "        2       Master      1.0\n",
       "                Mr         31.0\n",
       "                Officer    46.5\n",
       "        3       Master      4.0\n",
       "                Mr         26.0\n",
       "Name: Age, dtype: float64"
      ]
     },
     "execution_count": 15,
     "metadata": {},
     "output_type": "execute_result"
    }
   ],
   "source": [
    "# To display mediang age by the groupped features:\n",
    "group['Age'].median()"
   ]
  },
  {
   "cell_type": "code",
   "execution_count": 16,
   "metadata": {},
   "outputs": [],
   "source": [
    "# Fill in the NaN age values by group median values:\n",
    "titanic_df['Age'] = group['Age'].apply(lambda x: x.fillna(x.median()))"
   ]
  },
  {
   "cell_type": "markdown",
   "metadata": {},
   "source": [
    "##### Setting Binary Values for Sex Column "
   ]
  },
  {
   "cell_type": "markdown",
   "metadata": {},
   "source": [
    "KEY:<br>\n",
    "0 - male <br>\n",
    "1 - female\n",
    "\n",
    "For data visualisation we will keep male/female description in the Sex column, but this can be set later."
   ]
  },
  {
   "cell_type": "code",
   "execution_count": 17,
   "metadata": {},
   "outputs": [],
   "source": [
    "# Convert male and female groups to integer form:\n",
    "# titanic_df['Sex'] = titanic_df['Sex'].map({'male':0, 'female':1})"
   ]
  },
  {
   "cell_type": "markdown",
   "metadata": {},
   "source": [
    "##### Filling in Missing Cabin Values"
   ]
  },
  {
   "cell_type": "code",
   "execution_count": 18,
   "metadata": {},
   "outputs": [
    {
     "name": "stdout",
     "output_type": "stream",
     "text": [
      "Number of rows where Cabin data is missing: 687\n",
      "Percentage of Cabin data missing: 77.10437710437711\n"
     ]
    }
   ],
   "source": [
    "print('Number of rows where Cabin data is missing: ' + str(titanic_df.Cabin.isnull().sum()))\n",
    "print('Percentage of Cabin data missing: ' + str(titanic_df.Cabin.isnull().sum()/len(titanic_df.Cabin)*100))"
   ]
  },
  {
   "cell_type": "markdown",
   "metadata": {},
   "source": [
    "Because the percentage of mising Cabin data is quite high, we can drop the column from our dataframe titanic_df instead of filling it in."
   ]
  },
  {
   "cell_type": "code",
   "execution_count": 19,
   "metadata": {},
   "outputs": [],
   "source": [
    "titanic_df = titanic_df.drop(['Cabin'], axis = 1)"
   ]
  },
  {
   "cell_type": "code",
   "execution_count": 20,
   "metadata": {},
   "outputs": [
    {
     "data": {
      "text/plain": [
       "<matplotlib.axes._subplots.AxesSubplot at 0x11aae5a20>"
      ]
     },
     "execution_count": 20,
     "metadata": {},
     "output_type": "execute_result"
    },
    {
     "data": {
      "image/png": "[encoded data removed]",
      "text/plain": [
       "<Figure size 432x288 with 1 Axes>"
      ]
     },
     "metadata": {
      "needs_background": "light"
     },
     "output_type": "display_data"
    }
   ],
   "source": [
    "# Visualising missing data with heatmap:\n",
    "sns.heatmap(titanic_df.isnull(), yticklabels = False, cbar = False, cmap = 'plasma')"
   ]
  },
  {
   "cell_type": "markdown",
   "metadata": {},
   "source": [
    "We now have no data missing and can go to explore our dataset further."
   ]
  },
  {
   "cell_type": "markdown",
   "metadata": {},
   "source": [
    "### Exploratory Data Analysis (EDA) "
   ]
  },
  {
   "cell_type": "markdown",
   "metadata": {},
   "source": [
    "##### Who were the passengers on the Titanic?"
   ]
  },
  {
   "cell_type": "code",
   "execution_count": 21,
   "metadata": {},
   "outputs": [
    {
     "data": {
      "image/png": "[encoded data removed]",
      "text/plain": [
       "<Figure size 432x288 with 1 Axes>"
      ]
     },
     "metadata": {
      "needs_background": "light"
     },
     "output_type": "display_data"
    }
   ],
   "source": [
    "# Bar chart of total male and female passengers on the board:\n",
    "plt.figure(figsize=(6,4))\n",
    "sns.countplot(x = 'Sex', data=titanic_df,  palette = 'winter_d')\n",
    "plt.title('Number of males and females')\n",
    "plt.show()"
   ]
  },
  {
   "cell_type": "code",
   "execution_count": 22,
   "metadata": {},
   "outputs": [
    {
     "data": {
      "image/png": "[encoded data removed]",
      "text/plain": [
       "<Figure size 432x288 with 1 Axes>"
      ]
     },
     "metadata": {
      "needs_background": "light"
     },
     "output_type": "display_data"
    }
   ],
   "source": [
    "# Bar chart of male and female, split into survived/not survived:\n",
    "plt.figure(figsize=(6,4))\n",
    "sns.countplot(x = 'Sex', hue = 'Survived', data=titanic_df, palette = 'winter_d')\n",
    "plt.title('Passenger Gender Distribution - Survived vs Not-survived')\n",
    "plt.show()"
   ]
  },
  {
   "cell_type": "markdown",
   "metadata": {},
   "source": [
    "The bar charts above show that there are almost twice as many males on board as females. However, females have a better chance of survival."
   ]
  },
  {
   "cell_type": "markdown",
   "metadata": {},
   "source": [
    "##### Age Feature "
   ]
  },
  {
   "cell_type": "code",
   "execution_count": 23,
   "metadata": {},
   "outputs": [
    {
     "data": {
      "image/png": "[encoded data removed]",
      "text/plain": [
       "<Figure size 432x288 with 1 Axes>"
      ]
     },
     "metadata": {
      "needs_background": "light"
     },
     "output_type": "display_data"
    }
   ],
   "source": [
    "# Distribution of ages (we will drop rows with no data in Age column):\n",
    "plt.figure(figsize=(6,4))\n",
    "plt.hist(titanic_df['Age'].dropna(), bins=20, edgecolor = 'black', linewidth = 0.5)\n",
    "plt.title('Distribution of Ages')\n",
    "plt.xlabel('Age')\n",
    "plt.ylabel('count')\n",
    "plt.show()"
   ]
  },
  {
   "cell_type": "code",
   "execution_count": 24,
   "metadata": {},
   "outputs": [
    {
     "name": "stdout",
     "output_type": "stream",
     "text": [
      "The average age of a passenger on Titanic was:  29.1382379349046\n"
     ]
    }
   ],
   "source": [
    "# Returns the average age of Titanic passenger:\n",
    "mean = titanic_df['Age'].mean()\n",
    "print('The average age of a passenger on Titanic was: ', mean)"
   ]
  },
  {
   "cell_type": "code",
   "execution_count": 25,
   "metadata": {},
   "outputs": [
    {
     "data": {
      "text/plain": [
       "<seaborn.axisgrid.FacetGrid at 0x11af4c588>"
      ]
     },
     "execution_count": 25,
     "metadata": {},
     "output_type": "execute_result"
    },
    {
     "data": {
      "image/png": "[encoded data removed]",
      "text/plain": [
       "<Figure size 934.5x216 with 1 Axes>"
      ]
     },
     "metadata": {
      "needs_background": "light"
     },
     "output_type": "display_data"
    }
   ],
   "source": [
    "# Distribution of ages grouped by gender\n",
    "fig = sns.FacetGrid(titanic_df, hue='Sex', aspect=4)\n",
    "fig.map(sns.kdeplot, 'Age', shade=True)\n",
    "oldest = titanic_df['Age'].max()\n",
    "fig.set(xlim=(0,oldest))\n",
    "fig.set(title='Distribution of Age Grouped by Gender')\n",
    "fig.add_legend()"
   ]
  },
  {
   "cell_type": "code",
   "execution_count": 26,
   "metadata": {},
   "outputs": [],
   "source": [
    "# Adding a new column 'Age Group':\n",
    "def age_group(passenger):\n",
    "    Age, Sex = passenger\n",
    "    \n",
    "    if Age < 5:\n",
    "        return '0-4'\n",
    "    elif Age < 10:\n",
    "        return '5-9'\n",
    "    elif Age < 20:\n",
    "        return '10-19'\n",
    "    elif Age < 30:\n",
    "        return '20-29'\n",
    "    elif Age < 40:\n",
    "        return '30-39'\n",
    "    elif Age < 50:\n",
    "        return '40-49'\n",
    "    elif Age < 60:\n",
    "        return '50-50'\n",
    "    elif Age < 70:\n",
    "        return '60-69'\n",
    "    else:\n",
    "        return '70+'"
   ]
  },
  {
   "cell_type": "code",
   "execution_count": 27,
   "metadata": {},
   "outputs": [],
   "source": [
    "# Add new column Age Groups into titanic dataset: \n",
    "titanic_df['Age Groups'] = titanic_df[['Age', 'Sex']].apply(age_group, axis = 1)"
   ]
  },
  {
   "cell_type": "code",
   "execution_count": 28,
   "metadata": {},
   "outputs": [
    {
     "data": {
      "text/html": [
       "<div>\n",
       "<style scoped>\n",
       "    .dataframe tbody tr th:only-of-type {\n",
       "        vertical-align: middle;\n",
       "    }\n",
       "\n",
       "    .dataframe tbody tr th {\n",
       "        vertical-align: top;\n",
       "    }\n",
       "\n",
       "    .dataframe thead th {\n",
       "        text-align: right;\n",
       "    }\n",
       "</style>\n",
       "<table border=\"1\" class=\"dataframe\">\n",
       "  <thead>\n",
       "    <tr style=\"text-align: right;\">\n",
       "      <th></th>\n",
       "      <th>PassengerId</th>\n",
       "      <th>Survived</th>\n",
       "      <th>Pclass</th>\n",
       "      <th>Name</th>\n",
       "      <th>Sex</th>\n",
       "      <th>Age</th>\n",
       "      <th>SibSp</th>\n",
       "      <th>Parch</th>\n",
       "      <th>Ticket</th>\n",
       "      <th>Fare</th>\n",
       "      <th>Embarked</th>\n",
       "      <th>Title</th>\n",
       "      <th>Age Groups</th>\n",
       "    </tr>\n",
       "  </thead>\n",
       "  <tbody>\n",
       "    <tr>\n",
       "      <th>0</th>\n",
       "      <td>1</td>\n",
       "      <td>0</td>\n",
       "      <td>3</td>\n",
       "      <td>Braund, Mr. Owen Harris</td>\n",
       "      <td>male</td>\n",
       "      <td>22.0</td>\n",
       "      <td>1</td>\n",
       "      <td>0</td>\n",
       "      <td>A/5 21171</td>\n",
       "      <td>7.2500</td>\n",
       "      <td>S</td>\n",
       "      <td>Mr</td>\n",
       "      <td>20-29</td>\n",
       "    </tr>\n",
       "    <tr>\n",
       "      <th>1</th>\n",
       "      <td>2</td>\n",
       "      <td>1</td>\n",
       "      <td>1</td>\n",
       "      <td>Cumings, Mrs. John Bradley (Florence Briggs Th...</td>\n",
       "      <td>female</td>\n",
       "      <td>38.0</td>\n",
       "      <td>1</td>\n",
       "      <td>0</td>\n",
       "      <td>PC 17599</td>\n",
       "      <td>71.2833</td>\n",
       "      <td>C</td>\n",
       "      <td>Mrs</td>\n",
       "      <td>30-39</td>\n",
       "    </tr>\n",
       "    <tr>\n",
       "      <th>2</th>\n",
       "      <td>3</td>\n",
       "      <td>1</td>\n",
       "      <td>3</td>\n",
       "      <td>Heikkinen, Miss. Laina</td>\n",
       "      <td>female</td>\n",
       "      <td>26.0</td>\n",
       "      <td>0</td>\n",
       "      <td>0</td>\n",
       "      <td>STON/O2. 3101282</td>\n",
       "      <td>7.9250</td>\n",
       "      <td>S</td>\n",
       "      <td>Miss</td>\n",
       "      <td>20-29</td>\n",
       "    </tr>\n",
       "    <tr>\n",
       "      <th>3</th>\n",
       "      <td>4</td>\n",
       "      <td>1</td>\n",
       "      <td>1</td>\n",
       "      <td>Futrelle, Mrs. Jacques Heath (Lily May Peel)</td>\n",
       "      <td>female</td>\n",
       "      <td>35.0</td>\n",
       "      <td>1</td>\n",
       "      <td>0</td>\n",
       "      <td>113803</td>\n",
       "      <td>53.1000</td>\n",
       "      <td>S</td>\n",
       "      <td>Mrs</td>\n",
       "      <td>30-39</td>\n",
       "    </tr>\n",
       "    <tr>\n",
       "      <th>4</th>\n",
       "      <td>5</td>\n",
       "      <td>0</td>\n",
       "      <td>3</td>\n",
       "      <td>Allen, Mr. William Henry</td>\n",
       "      <td>male</td>\n",
       "      <td>35.0</td>\n",
       "      <td>0</td>\n",
       "      <td>0</td>\n",
       "      <td>373450</td>\n",
       "      <td>8.0500</td>\n",
       "      <td>S</td>\n",
       "      <td>Mr</td>\n",
       "      <td>30-39</td>\n",
       "    </tr>\n",
       "  </tbody>\n",
       "</table>\n",
       "</div>"
      ],
      "text/plain": [
       "   PassengerId  Survived  Pclass  \\\n",
       "0            1         0       3   \n",
       "1            2         1       1   \n",
       "2            3         1       3   \n",
       "3            4         1       1   \n",
       "4            5         0       3   \n",
       "\n",
       "                                                Name     Sex   Age  SibSp  \\\n",
       "0                            Braund, Mr. Owen Harris    male  22.0      1   \n",
       "1  Cumings, Mrs. John Bradley (Florence Briggs Th...  female  38.0      1   \n",
       "2                             Heikkinen, Miss. Laina  female  26.0      0   \n",
       "3       Futrelle, Mrs. Jacques Heath (Lily May Peel)  female  35.0      1   \n",
       "4                           Allen, Mr. William Henry    male  35.0      0   \n",
       "\n",
       "   Parch            Ticket     Fare Embarked Title Age Groups  \n",
       "0      0         A/5 21171   7.2500        S    Mr      20-29  \n",
       "1      0          PC 17599  71.2833        C   Mrs      30-39  \n",
       "2      0  STON/O2. 3101282   7.9250        S  Miss      20-29  \n",
       "3      0            113803  53.1000        S   Mrs      30-39  \n",
       "4      0            373450   8.0500        S    Mr      30-39  "
      ]
     },
     "execution_count": 28,
     "metadata": {},
     "output_type": "execute_result"
    }
   ],
   "source": [
    "# Check the changes by displaying first 5 rows of the dataset: \n",
    "titanic_df.head()"
   ]
  },
  {
   "cell_type": "code",
   "execution_count": 29,
   "metadata": {},
   "outputs": [
    {
     "data": {
      "image/png": "[encoded data removed]",
      "text/plain": [
       "<Figure size 432x288 with 1 Axes>"
      ]
     },
     "metadata": {
      "needs_background": "light"
     },
     "output_type": "display_data"
    }
   ],
   "source": [
    "# Bar chart of 'Age Groups' and 'Sex':\n",
    "plt.figure(figsize=(6,4))\n",
    "sns.countplot(x = 'Age Groups', hue = 'Sex', data=titanic_df,  palette = 'winter_d', \n",
    "              order = ['0-4','5-9','10-19','20-29','30-39','40-49','50-59','60-69','70+'])\n",
    "plt.title('Age Groups for All Passengers')\n",
    "plt.show()"
   ]
  },
  {
   "cell_type": "code",
   "execution_count": 30,
   "metadata": {},
   "outputs": [
    {
     "data": {
      "text/plain": [
       "20-29    312\n",
       "30-39    186\n",
       "10-19    135\n",
       "40-49    117\n",
       "50-50     49\n",
       "0-4       44\n",
       "5-9       22\n",
       "60-69     19\n",
       "70+        7\n",
       "Name: Age Groups, dtype: int64"
      ]
     },
     "execution_count": 30,
     "metadata": {},
     "output_type": "execute_result"
    }
   ],
   "source": [
    "# Returns counts of 'age groups' split into defined categories: \n",
    "titanic_df['Age Groups'].value_counts()"
   ]
  },
  {
   "cell_type": "code",
   "execution_count": 31,
   "metadata": {
    "scrolled": true
   },
   "outputs": [
    {
     "data": {
      "image/png": "[encoded data removed]",
      "text/plain": [
       "<Figure size 864x288 with 2 Axes>"
      ]
     },
     "metadata": {
      "needs_background": "light"
     },
     "output_type": "display_data"
    }
   ],
   "source": [
    "# Bar chart of 'Age Groups' and 'Sex' for both males and females:\n",
    "plt.figure(figsize=(12,4))\n",
    "plt.subplot(121)\n",
    "sns.countplot(x = 'Age Groups', hue = 'Survived', data = titanic_df[titanic_df.Sex == 'female'],\n",
    "              palette = 'rocket_r', \n",
    "              order = ['0-4','5-9','10-19','20-29','30-39','40-49','50-59','60-69','70+'])\n",
    "plt.title('Female Survival Age Groups')\n",
    "\n",
    "plt.subplot(122)\n",
    "sns.countplot(x = 'Age Groups', hue = 'Survived', data = titanic_df[titanic_df.Sex == 'male'],  palette = 'rocket_r', \n",
    "              order = ['0-4','5-9','10-19','20-29','30-39','40-49','50-59','60-69','70+'])\n",
    "plt.title('Male Survival Age Groups')\n",
    "\n",
    "plt.show()"
   ]
  },
  {
   "cell_type": "markdown",
   "metadata": {},
   "source": [
    "Exploring the age feature shows us that females on the board of Titanic had a higher chance of survival than males."
   ]
  },
  {
   "cell_type": "markdown",
   "metadata": {},
   "source": [
    "##### Embarked Feature "
   ]
  },
  {
   "cell_type": "markdown",
   "metadata": {},
   "source": [
    "Embark = port of embarkation (C = Cherbourg, Q = Queenstown, S = Southampton)"
   ]
  },
  {
   "cell_type": "code",
   "execution_count": 32,
   "metadata": {},
   "outputs": [
    {
     "data": {
      "text/plain": [
       "S    644\n",
       "C    168\n",
       "Q     77\n",
       "Name: Embarked, dtype: int64"
      ]
     },
     "execution_count": 32,
     "metadata": {},
     "output_type": "execute_result"
    }
   ],
   "source": [
    "# How many people embarked in each of the ports?\n",
    "titanic_df['Embarked'].value_counts()"
   ]
  },
  {
   "cell_type": "code",
   "execution_count": 33,
   "metadata": {},
   "outputs": [
    {
     "data": {
      "text/plain": [
       "Embarked  Pclass\n",
       "C         1           85\n",
       "          2           34\n",
       "          3          198\n",
       "Q         1            2\n",
       "          2            6\n",
       "          3          216\n",
       "S         1          127\n",
       "          2          328\n",
       "          3         1059\n",
       "Name: Pclass, dtype: int64"
      ]
     },
     "execution_count": 33,
     "metadata": {},
     "output_type": "execute_result"
    }
   ],
   "source": [
    "# How many passengers of each class embarked in C, Q, and S port?\n",
    "emb = titanic_df.groupby(['Embarked', 'Pclass'])\n",
    "emb.Pclass.sum()"
   ]
  },
  {
   "cell_type": "code",
   "execution_count": 34,
   "metadata": {},
   "outputs": [
    {
     "data": {
      "image/png": "[encoded data removed]",
      "text/plain": [
       "<Figure size 432x288 with 1 Axes>"
      ]
     },
     "metadata": {
      "needs_background": "light"
     },
     "output_type": "display_data"
    }
   ],
   "source": [
    "# Embarked split into travel class: \n",
    "\n",
    "plt.figure(figsize = (6,4))\n",
    "sns.countplot('Embarked', data=titanic_df, hue='Pclass', palette = 'winter_d', order = ['C','Q','S'])\n",
    "plt.title('Embarked by Travel Class')\n",
    "plt.show()"
   ]
  },
  {
   "cell_type": "code",
   "execution_count": 35,
   "metadata": {},
   "outputs": [
    {
     "data": {
      "text/plain": [
       "<seaborn.axisgrid.FacetGrid at 0x11da6dc88>"
      ]
     },
     "execution_count": 35,
     "metadata": {},
     "output_type": "execute_result"
    },
    {
     "data": {
      "image/png": "[encoded data removed]",
      "text/plain": [
       "<Figure size 1080x360 with 3 Axes>"
      ]
     },
     "metadata": {
      "needs_background": "light"
     },
     "output_type": "display_data"
    }
   ],
   "source": [
    "# Is there any relationship between embarked and survival?\n",
    "sns.catplot(data = titanic_df, x = 'Survived', col = 'Embarked', kind = 'count', palette = 'winter_d')"
   ]
  },
  {
   "cell_type": "code",
   "execution_count": 36,
   "metadata": {},
   "outputs": [
    {
     "data": {
      "text/plain": [
       "<seaborn.axisgrid.FacetGrid at 0x11e07f128>"
      ]
     },
     "execution_count": 36,
     "metadata": {},
     "output_type": "execute_result"
    },
    {
     "data": {
      "image/png": "[encoded data removed]",
      "text/plain": [
       "<Figure size 1150.5x360 with 3 Axes>"
      ]
     },
     "metadata": {
      "needs_background": "light"
     },
     "output_type": "display_data"
    }
   ],
   "source": [
    "sns.catplot(data = titanic_df, x = 'Survived', hue = 'Sex',  col = 'Embarked', kind = 'count', palette = 'rocket_r')"
   ]
  },
  {
   "cell_type": "markdown",
   "metadata": {},
   "source": [
    "It seems like people who embarked in Southampton had higher survival rate than those who embarked in other two ports. "
   ]
  },
  {
   "cell_type": "markdown",
   "metadata": {},
   "source": [
    "##### Fare Feature"
   ]
  },
  {
   "cell_type": "code",
   "execution_count": 37,
   "metadata": {},
   "outputs": [
    {
     "data": {
      "image/png": "[encoded data removed]",
      "text/plain": [
       "<Figure size 432x288 with 1 Axes>"
      ]
     },
     "metadata": {
      "needs_background": "light"
     },
     "output_type": "display_data"
    }
   ],
   "source": [
    "plt.figure(figsize = (6,4))\n",
    "sns.stripplot(data = titanic_df, x='Survived', y='Fare', alpha=0.3, jitter=True)\n",
    "plt.title('Fare Feature vs Survival')\n",
    "plt.show()"
   ]
  },
  {
   "cell_type": "code",
   "execution_count": 38,
   "metadata": {},
   "outputs": [
    {
     "data": {
      "image/png": "[encoded data removed]",
      "text/plain": [
       "<Figure size 432x288 with 1 Axes>"
      ]
     },
     "metadata": {
      "needs_background": "light"
     },
     "output_type": "display_data"
    }
   ],
   "source": [
    "plt.figure(figsize = (6,4))\n",
    "sns.swarmplot(data = titanic_df, x = 'Survived', y = 'Fare')\n",
    "plt.title('Fare Feature vs Survival')\n",
    "plt.show()"
   ]
  },
  {
   "cell_type": "markdown",
   "metadata": {},
   "source": [
    "There is a weak correlation between fare and survival."
   ]
  },
  {
   "cell_type": "markdown",
   "metadata": {},
   "source": [
    "######  What is the chance that a woman in her 30's with a 2nd class ticket survives? "
   ]
  },
  {
   "cell_type": "code",
   "execution_count": 39,
   "metadata": {},
   "outputs": [
    {
     "data": {
      "text/html": [
       "<style  type=\"text/css\" >\n",
       "    #T_6cd28abe_48fd_11e9_a862_9a0006404840row0_col0 {\n",
       "            background-color:  #ffaa00;\n",
       "        }    #T_6cd28abe_48fd_11e9_a862_9a0006404840row0_col1 {\n",
       "            background-color:  #ffff00;\n",
       "        }    #T_6cd28abe_48fd_11e9_a862_9a0006404840row0_col2 {\n",
       "            background-color:  #ffff00;\n",
       "        }    #T_6cd28abe_48fd_11e9_a862_9a0006404840row0_col3 {\n",
       "            background-color:  #ffff00;\n",
       "        }    #T_6cd28abe_48fd_11e9_a862_9a0006404840row0_col4 {\n",
       "            background-color:  #ffff00;\n",
       "        }    #T_6cd28abe_48fd_11e9_a862_9a0006404840row0_col5 {\n",
       "            background-color:  #ffc700;\n",
       "        }    #T_6cd28abe_48fd_11e9_a862_9a0006404840row0_col6 {\n",
       "            background-color:  #ffff00;\n",
       "        }    #T_6cd28abe_48fd_11e9_a862_9a0006404840row0_col7 {\n",
       "            background-color:  #fff200;\n",
       "        }    #T_6cd28abe_48fd_11e9_a862_9a0006404840row0_col8 {\n",
       "            background-color:  #fffe00;\n",
       "        }    #T_6cd28abe_48fd_11e9_a862_9a0006404840row0_col9 {\n",
       "            background-color:  #ffff00;\n",
       "        }    #T_6cd28abe_48fd_11e9_a862_9a0006404840row0_col10 {\n",
       "            background-color:  #ffff00;\n",
       "        }    #T_6cd28abe_48fd_11e9_a862_9a0006404840row0_col11 {\n",
       "            background-color:  #fff100;\n",
       "        }    #T_6cd28abe_48fd_11e9_a862_9a0006404840row0_col12 {\n",
       "            background-color:  #ffff00;\n",
       "        }    #T_6cd28abe_48fd_11e9_a862_9a0006404840row0_col13 {\n",
       "            background-color:  #ffff00;\n",
       "        }    #T_6cd28abe_48fd_11e9_a862_9a0006404840row0_col14 {\n",
       "            background-color:  #ffbc00;\n",
       "        }    #T_6cd28abe_48fd_11e9_a862_9a0006404840row0_col15 {\n",
       "            background-color:  #ffff00;\n",
       "        }    #T_6cd28abe_48fd_11e9_a862_9a0006404840row0_col16 {\n",
       "            background-color:  #ffc900;\n",
       "        }    #T_6cd28abe_48fd_11e9_a862_9a0006404840row0_col17 {\n",
       "            background-color:  #ffff00;\n",
       "        }    #T_6cd28abe_48fd_11e9_a862_9a0006404840row0_col18 {\n",
       "            background-color:  #ffee00;\n",
       "        }    #T_6cd28abe_48fd_11e9_a862_9a0006404840row0_col19 {\n",
       "            background-color:  #ffff00;\n",
       "        }    #T_6cd28abe_48fd_11e9_a862_9a0006404840row0_col20 {\n",
       "            background-color:  #ffff00;\n",
       "        }    #T_6cd28abe_48fd_11e9_a862_9a0006404840row0_col21 {\n",
       "            background-color:  #ffff00;\n",
       "        }    #T_6cd28abe_48fd_11e9_a862_9a0006404840row0_col22 {\n",
       "            background-color:  #ffff00;\n",
       "        }    #T_6cd28abe_48fd_11e9_a862_9a0006404840row0_col23 {\n",
       "            background-color:  #ffff00;\n",
       "        }    #T_6cd28abe_48fd_11e9_a862_9a0006404840row0_col24 {\n",
       "            background-color:  #ffff00;\n",
       "        }    #T_6cd28abe_48fd_11e9_a862_9a0006404840row0_col25 {\n",
       "            background-color:  #ffff00;\n",
       "        }    #T_6cd28abe_48fd_11e9_a862_9a0006404840row0_col26 {\n",
       "            background-color:  #ffff00;\n",
       "        }    #T_6cd28abe_48fd_11e9_a862_9a0006404840row1_col0 {\n",
       "            background-color:  #ffff00;\n",
       "        }    #T_6cd28abe_48fd_11e9_a862_9a0006404840row1_col1 {\n",
       "            background-color:  #ffaa00;\n",
       "        }    #T_6cd28abe_48fd_11e9_a862_9a0006404840row1_col2 {\n",
       "            background-color:  #ffd700;\n",
       "        }    #T_6cd28abe_48fd_11e9_a862_9a0006404840row1_col3 {\n",
       "            background-color:  #ff4700;\n",
       "        }    #T_6cd28abe_48fd_11e9_a862_9a0006404840row1_col4 {\n",
       "            background-color:  #ff8e00;\n",
       "        }    #T_6cd28abe_48fd_11e9_a862_9a0006404840row1_col5 {\n",
       "            background-color:  #ffb400;\n",
       "        }    #T_6cd28abe_48fd_11e9_a862_9a0006404840row1_col6 {\n",
       "            background-color:  #ff9300;\n",
       "        }    #T_6cd28abe_48fd_11e9_a862_9a0006404840row1_col7 {\n",
       "            background-color:  #ff9000;\n",
       "        }    #T_6cd28abe_48fd_11e9_a862_9a0006404840row1_col8 {\n",
       "            background-color:  #ffff00;\n",
       "        }    #T_6cd28abe_48fd_11e9_a862_9a0006404840row1_col9 {\n",
       "            background-color:  #ff7300;\n",
       "        }    #T_6cd28abe_48fd_11e9_a862_9a0006404840row1_col10 {\n",
       "            background-color:  #ffbb00;\n",
       "        }    #T_6cd28abe_48fd_11e9_a862_9a0006404840row1_col11 {\n",
       "            background-color:  #ffed00;\n",
       "        }    #T_6cd28abe_48fd_11e9_a862_9a0006404840row1_col12 {\n",
       "            background-color:  #ffad00;\n",
       "        }    #T_6cd28abe_48fd_11e9_a862_9a0006404840row1_col13 {\n",
       "            background-color:  #ff8700;\n",
       "        }    #T_6cd28abe_48fd_11e9_a862_9a0006404840row1_col14 {\n",
       "            background-color:  #ffff00;\n",
       "        }    #T_6cd28abe_48fd_11e9_a862_9a0006404840row1_col15 {\n",
       "            background-color:  #ff3300;\n",
       "        }    #T_6cd28abe_48fd_11e9_a862_9a0006404840row1_col16 {\n",
       "            background-color:  #ffff00;\n",
       "        }    #T_6cd28abe_48fd_11e9_a862_9a0006404840row1_col17 {\n",
       "            background-color:  #ffa100;\n",
       "        }    #T_6cd28abe_48fd_11e9_a862_9a0006404840row1_col18 {\n",
       "            background-color:  #ffaa00;\n",
       "        }    #T_6cd28abe_48fd_11e9_a862_9a0006404840row1_col19 {\n",
       "            background-color:  #ffff00;\n",
       "        }    #T_6cd28abe_48fd_11e9_a862_9a0006404840row1_col20 {\n",
       "            background-color:  #ffc400;\n",
       "        }    #T_6cd28abe_48fd_11e9_a862_9a0006404840row1_col21 {\n",
       "            background-color:  #ffff00;\n",
       "        }    #T_6cd28abe_48fd_11e9_a862_9a0006404840row1_col22 {\n",
       "            background-color:  #ffaa00;\n",
       "        }    #T_6cd28abe_48fd_11e9_a862_9a0006404840row1_col23 {\n",
       "            background-color:  #ffff00;\n",
       "        }    #T_6cd28abe_48fd_11e9_a862_9a0006404840row1_col24 {\n",
       "            background-color:  #ffff00;\n",
       "        }    #T_6cd28abe_48fd_11e9_a862_9a0006404840row1_col25 {\n",
       "            background-color:  #ffff00;\n",
       "        }    #T_6cd28abe_48fd_11e9_a862_9a0006404840row1_col26 {\n",
       "            background-color:  #ffcf00;\n",
       "        }    #T_6cd28abe_48fd_11e9_a862_9a0006404840row2_col0 {\n",
       "            background-color:  #ffff00;\n",
       "        }    #T_6cd28abe_48fd_11e9_a862_9a0006404840row2_col1 {\n",
       "            background-color:  #ffff00;\n",
       "        }    #T_6cd28abe_48fd_11e9_a862_9a0006404840row2_col2 {\n",
       "            background-color:  #ffc200;\n",
       "        }    #T_6cd28abe_48fd_11e9_a862_9a0006404840row2_col3 {\n",
       "            background-color:  #ffd500;\n",
       "        }    #T_6cd28abe_48fd_11e9_a862_9a0006404840row2_col4 {\n",
       "            background-color:  #ff7f00;\n",
       "        }    #T_6cd28abe_48fd_11e9_a862_9a0006404840row2_col5 {\n",
       "            background-color:  #ffa400;\n",
       "        }    #T_6cd28abe_48fd_11e9_a862_9a0006404840row2_col6 {\n",
       "            background-color:  #ffc100;\n",
       "        }    #T_6cd28abe_48fd_11e9_a862_9a0006404840row2_col7 {\n",
       "            background-color:  #ff7d00;\n",
       "        }    #T_6cd28abe_48fd_11e9_a862_9a0006404840row2_col8 {\n",
       "            background-color:  #ff4200;\n",
       "        }    #T_6cd28abe_48fd_11e9_a862_9a0006404840row2_col9 {\n",
       "            background-color:  #ffc800;\n",
       "        }    #T_6cd28abe_48fd_11e9_a862_9a0006404840row2_col10 {\n",
       "            background-color:  #ff6400;\n",
       "        }    #T_6cd28abe_48fd_11e9_a862_9a0006404840row2_col11 {\n",
       "            background-color:  #ff7800;\n",
       "        }    #T_6cd28abe_48fd_11e9_a862_9a0006404840row2_col12 {\n",
       "            background-color:  #ff8900;\n",
       "        }    #T_6cd28abe_48fd_11e9_a862_9a0006404840row2_col13 {\n",
       "            background-color:  #ffa500;\n",
       "        }    #T_6cd28abe_48fd_11e9_a862_9a0006404840row2_col14 {\n",
       "            background-color:  #ff5200;\n",
       "        }    #T_6cd28abe_48fd_11e9_a862_9a0006404840row2_col15 {\n",
       "            background-color:  #ffff00;\n",
       "        }    #T_6cd28abe_48fd_11e9_a862_9a0006404840row2_col16 {\n",
       "            background-color:  #ffdb00;\n",
       "        }    #T_6cd28abe_48fd_11e9_a862_9a0006404840row2_col17 {\n",
       "            background-color:  #ff9700;\n",
       "        }    #T_6cd28abe_48fd_11e9_a862_9a0006404840row2_col18 {\n",
       "            background-color:  #ff6600;\n",
       "        }    #T_6cd28abe_48fd_11e9_a862_9a0006404840row2_col19 {\n",
       "            background-color:  #ff0000;\n",
       "        }    #T_6cd28abe_48fd_11e9_a862_9a0006404840row2_col20 {\n",
       "            background-color:  #ff4e00;\n",
       "        }    #T_6cd28abe_48fd_11e9_a862_9a0006404840row2_col21 {\n",
       "            background-color:  #ff5500;\n",
       "        }    #T_6cd28abe_48fd_11e9_a862_9a0006404840row2_col22 {\n",
       "            background-color:  #ff5500;\n",
       "        }    #T_6cd28abe_48fd_11e9_a862_9a0006404840row2_col23 {\n",
       "            background-color:  #ff3f00;\n",
       "        }    #T_6cd28abe_48fd_11e9_a862_9a0006404840row2_col24 {\n",
       "            background-color:  #ff0000;\n",
       "        }    #T_6cd28abe_48fd_11e9_a862_9a0006404840row2_col25 {\n",
       "            background-color:  #ff0000;\n",
       "        }    #T_6cd28abe_48fd_11e9_a862_9a0006404840row2_col26 {\n",
       "            background-color:  #ff8500;\n",
       "        }    #T_6cd28abe_48fd_11e9_a862_9a0006404840row3_col0 {\n",
       "            background-color:  #ff5500;\n",
       "        }    #T_6cd28abe_48fd_11e9_a862_9a0006404840row3_col1 {\n",
       "            background-color:  #ff5500;\n",
       "        }    #T_6cd28abe_48fd_11e9_a862_9a0006404840row3_col2 {\n",
       "            background-color:  #ffe100;\n",
       "        }    #T_6cd28abe_48fd_11e9_a862_9a0006404840row3_col3 {\n",
       "            background-color:  #ffe300;\n",
       "        }    #T_6cd28abe_48fd_11e9_a862_9a0006404840row3_col4 {\n",
       "            background-color:  #fff100;\n",
       "        }    #T_6cd28abe_48fd_11e9_a862_9a0006404840row3_col5 {\n",
       "            background-color:  #ffff00;\n",
       "        }    #T_6cd28abe_48fd_11e9_a862_9a0006404840row3_col6 {\n",
       "            background-color:  #ffc100;\n",
       "        }    #T_6cd28abe_48fd_11e9_a862_9a0006404840row3_col7 {\n",
       "            background-color:  #ffff00;\n",
       "        }    #T_6cd28abe_48fd_11e9_a862_9a0006404840row3_col8 {\n",
       "            background-color:  #fff600;\n",
       "        }    #T_6cd28abe_48fd_11e9_a862_9a0006404840row3_col9 {\n",
       "            background-color:  #ffc300;\n",
       "        }    #T_6cd28abe_48fd_11e9_a862_9a0006404840row3_col10 {\n",
       "            background-color:  #ffed00;\n",
       "        }    #T_6cd28abe_48fd_11e9_a862_9a0006404840row3_col11 {\n",
       "            background-color:  #ffff00;\n",
       "        }    #T_6cd28abe_48fd_11e9_a862_9a0006404840row3_col12 {\n",
       "            background-color:  #ffc800;\n",
       "        }    #T_6cd28abe_48fd_11e9_a862_9a0006404840row3_col13 {\n",
       "            background-color:  #ffff00;\n",
       "        }    #T_6cd28abe_48fd_11e9_a862_9a0006404840row3_col14 {\n",
       "            background-color:  #fff000;\n",
       "        }    #T_6cd28abe_48fd_11e9_a862_9a0006404840row3_col15 {\n",
       "            background-color:  #ffcc00;\n",
       "        }    #T_6cd28abe_48fd_11e9_a862_9a0006404840row3_col16 {\n",
       "            background-color:  #ffff00;\n",
       "        }    #T_6cd28abe_48fd_11e9_a862_9a0006404840row3_col17 {\n",
       "            background-color:  #ffe300;\n",
       "        }    #T_6cd28abe_48fd_11e9_a862_9a0006404840row3_col18 {\n",
       "            background-color:  #ffff00;\n",
       "        }    #T_6cd28abe_48fd_11e9_a862_9a0006404840row3_col19 {\n",
       "            background-color:  #ffff00;\n",
       "        }    #T_6cd28abe_48fd_11e9_a862_9a0006404840row3_col20 {\n",
       "            background-color:  #ffec00;\n",
       "        }    #T_6cd28abe_48fd_11e9_a862_9a0006404840row3_col21 {\n",
       "            background-color:  #ffaa00;\n",
       "        }    #T_6cd28abe_48fd_11e9_a862_9a0006404840row3_col22 {\n",
       "            background-color:  #ffff00;\n",
       "        }    #T_6cd28abe_48fd_11e9_a862_9a0006404840row3_col23 {\n",
       "            background-color:  #ffbf00;\n",
       "        }    #T_6cd28abe_48fd_11e9_a862_9a0006404840row3_col24 {\n",
       "            background-color:  #ffff00;\n",
       "        }    #T_6cd28abe_48fd_11e9_a862_9a0006404840row3_col25 {\n",
       "            background-color:  #ffff00;\n",
       "        }    #T_6cd28abe_48fd_11e9_a862_9a0006404840row3_col26 {\n",
       "            background-color:  #fff700;\n",
       "        }    #T_6cd28abe_48fd_11e9_a862_9a0006404840row4_col0 {\n",
       "            background-color:  #ff0000;\n",
       "        }    #T_6cd28abe_48fd_11e9_a862_9a0006404840row4_col1 {\n",
       "            background-color:  #ff0000;\n",
       "        }    #T_6cd28abe_48fd_11e9_a862_9a0006404840row4_col2 {\n",
       "            background-color:  #ff0000;\n",
       "        }    #T_6cd28abe_48fd_11e9_a862_9a0006404840row4_col3 {\n",
       "            background-color:  #ff0000;\n",
       "        }    #T_6cd28abe_48fd_11e9_a862_9a0006404840row4_col4 {\n",
       "            background-color:  #ff0000;\n",
       "        }    #T_6cd28abe_48fd_11e9_a862_9a0006404840row4_col5 {\n",
       "            background-color:  #ff0000;\n",
       "        }    #T_6cd28abe_48fd_11e9_a862_9a0006404840row4_col6 {\n",
       "            background-color:  #ff0000;\n",
       "        }    #T_6cd28abe_48fd_11e9_a862_9a0006404840row4_col7 {\n",
       "            background-color:  #ff0000;\n",
       "        }    #T_6cd28abe_48fd_11e9_a862_9a0006404840row4_col8 {\n",
       "            background-color:  #ff0000;\n",
       "        }    #T_6cd28abe_48fd_11e9_a862_9a0006404840row4_col9 {\n",
       "            background-color:  #ff0000;\n",
       "        }    #T_6cd28abe_48fd_11e9_a862_9a0006404840row4_col10 {\n",
       "            background-color:  #ff0000;\n",
       "        }    #T_6cd28abe_48fd_11e9_a862_9a0006404840row4_col11 {\n",
       "            background-color:  #ff0000;\n",
       "        }    #T_6cd28abe_48fd_11e9_a862_9a0006404840row4_col12 {\n",
       "            background-color:  #ff0000;\n",
       "        }    #T_6cd28abe_48fd_11e9_a862_9a0006404840row4_col13 {\n",
       "            background-color:  #ff0000;\n",
       "        }    #T_6cd28abe_48fd_11e9_a862_9a0006404840row4_col14 {\n",
       "            background-color:  #ff0000;\n",
       "        }    #T_6cd28abe_48fd_11e9_a862_9a0006404840row4_col15 {\n",
       "            background-color:  #ff0000;\n",
       "        }    #T_6cd28abe_48fd_11e9_a862_9a0006404840row4_col16 {\n",
       "            background-color:  #ff0000;\n",
       "        }    #T_6cd28abe_48fd_11e9_a862_9a0006404840row4_col17 {\n",
       "            background-color:  #ff0000;\n",
       "        }    #T_6cd28abe_48fd_11e9_a862_9a0006404840row4_col18 {\n",
       "            background-color:  #ff0000;\n",
       "        }    #T_6cd28abe_48fd_11e9_a862_9a0006404840row4_col19 {\n",
       "            background-color:  #ff0000;\n",
       "        }    #T_6cd28abe_48fd_11e9_a862_9a0006404840row4_col20 {\n",
       "            background-color:  #ff0000;\n",
       "        }    #T_6cd28abe_48fd_11e9_a862_9a0006404840row4_col21 {\n",
       "            background-color:  #ff0000;\n",
       "        }    #T_6cd28abe_48fd_11e9_a862_9a0006404840row4_col22 {\n",
       "            background-color:  #ff0000;\n",
       "        }    #T_6cd28abe_48fd_11e9_a862_9a0006404840row4_col23 {\n",
       "            background-color:  #ff0000;\n",
       "        }    #T_6cd28abe_48fd_11e9_a862_9a0006404840row4_col24 {\n",
       "            background-color:  #ff0000;\n",
       "        }    #T_6cd28abe_48fd_11e9_a862_9a0006404840row4_col25 {\n",
       "            background-color:  #ff0000;\n",
       "        }    #T_6cd28abe_48fd_11e9_a862_9a0006404840row4_col26 {\n",
       "            background-color:  #ff0000;\n",
       "        }</style>  \n",
       "<table id=\"T_6cd28abe_48fd_11e9_a862_9a0006404840\" > \n",
       "<thead>    <tr> \n",
       "        <th class=\"blank\" ></th> \n",
       "        <th class=\"index_name level0\" >Age Groups</th> \n",
       "        <th class=\"col_heading level0 col0\" colspan=3>0-4</th> \n",
       "        <th class=\"col_heading level0 col3\" colspan=3>10-19</th> \n",
       "        <th class=\"col_heading level0 col6\" colspan=3>20-29</th> \n",
       "        <th class=\"col_heading level0 col9\" colspan=3>30-39</th> \n",
       "        <th class=\"col_heading level0 col12\" colspan=3>40-49</th> \n",
       "        <th class=\"col_heading level0 col15\" colspan=2>5-9</th> \n",
       "        <th class=\"col_heading level0 col17\" colspan=3>50-50</th> \n",
       "        <th class=\"col_heading level0 col20\" colspan=3>60-69</th> \n",
       "        <th class=\"col_heading level0 col23\" colspan=3>70+</th> \n",
       "        <th class=\"col_heading level0 col26\" >All</th> \n",
       "    </tr>    <tr> \n",
       "        <th class=\"blank\" ></th> \n",
       "        <th class=\"index_name level1\" >Pclass</th> \n",
       "        <th class=\"col_heading level1 col0\" >1</th> \n",
       "        <th class=\"col_heading level1 col1\" >2</th> \n",
       "        <th class=\"col_heading level1 col2\" >3</th> \n",
       "        <th class=\"col_heading level1 col3\" >1</th> \n",
       "        <th class=\"col_heading level1 col4\" >2</th> \n",
       "        <th class=\"col_heading level1 col5\" >3</th> \n",
       "        <th class=\"col_heading level1 col6\" >1</th> \n",
       "        <th class=\"col_heading level1 col7\" >2</th> \n",
       "        <th class=\"col_heading level1 col8\" >3</th> \n",
       "        <th class=\"col_heading level1 col9\" >1</th> \n",
       "        <th class=\"col_heading level1 col10\" >2</th> \n",
       "        <th class=\"col_heading level1 col11\" >3</th> \n",
       "        <th class=\"col_heading level1 col12\" >1</th> \n",
       "        <th class=\"col_heading level1 col13\" >2</th> \n",
       "        <th class=\"col_heading level1 col14\" >3</th> \n",
       "        <th class=\"col_heading level1 col15\" >2</th> \n",
       "        <th class=\"col_heading level1 col16\" >3</th> \n",
       "        <th class=\"col_heading level1 col17\" >1</th> \n",
       "        <th class=\"col_heading level1 col18\" >2</th> \n",
       "        <th class=\"col_heading level1 col19\" >3</th> \n",
       "        <th class=\"col_heading level1 col20\" >1</th> \n",
       "        <th class=\"col_heading level1 col21\" >2</th> \n",
       "        <th class=\"col_heading level1 col22\" >3</th> \n",
       "        <th class=\"col_heading level1 col23\" >1</th> \n",
       "        <th class=\"col_heading level1 col24\" >2</th> \n",
       "        <th class=\"col_heading level1 col25\" >3</th> \n",
       "        <th class=\"col_heading level1 col26\" ></th> \n",
       "    </tr>    <tr> \n",
       "        <th class=\"index_name level0\" >Sex</th> \n",
       "        <th class=\"index_name level1\" >Survived</th> \n",
       "        <th class=\"blank\" ></th> \n",
       "        <th class=\"blank\" ></th> \n",
       "        <th class=\"blank\" ></th> \n",
       "        <th class=\"blank\" ></th> \n",
       "        <th class=\"blank\" ></th> \n",
       "        <th class=\"blank\" ></th> \n",
       "        <th class=\"blank\" ></th> \n",
       "        <th class=\"blank\" ></th> \n",
       "        <th class=\"blank\" ></th> \n",
       "        <th class=\"blank\" ></th> \n",
       "        <th class=\"blank\" ></th> \n",
       "        <th class=\"blank\" ></th> \n",
       "        <th class=\"blank\" ></th> \n",
       "        <th class=\"blank\" ></th> \n",
       "        <th class=\"blank\" ></th> \n",
       "        <th class=\"blank\" ></th> \n",
       "        <th class=\"blank\" ></th> \n",
       "        <th class=\"blank\" ></th> \n",
       "        <th class=\"blank\" ></th> \n",
       "        <th class=\"blank\" ></th> \n",
       "        <th class=\"blank\" ></th> \n",
       "        <th class=\"blank\" ></th> \n",
       "        <th class=\"blank\" ></th> \n",
       "        <th class=\"blank\" ></th> \n",
       "        <th class=\"blank\" ></th> \n",
       "        <th class=\"blank\" ></th> \n",
       "        <th class=\"blank\" ></th> \n",
       "    </tr></thead> \n",
       "<tbody>    <tr> \n",
       "        <th id=\"T_6cd28abe_48fd_11e9_a862_9a0006404840level0_row0\" class=\"row_heading level0 row0\" rowspan=2>female</th> \n",
       "        <th id=\"T_6cd28abe_48fd_11e9_a862_9a0006404840level1_row0\" class=\"row_heading level1 row0\" >0</th> \n",
       "        <td id=\"T_6cd28abe_48fd_11e9_a862_9a0006404840row0_col0\" class=\"data row0 col0\" >1</td> \n",
       "        <td id=\"T_6cd28abe_48fd_11e9_a862_9a0006404840row0_col1\" class=\"data row0 col1\" >0</td> \n",
       "        <td id=\"T_6cd28abe_48fd_11e9_a862_9a0006404840row0_col2\" class=\"data row0 col2\" >4</td> \n",
       "        <td id=\"T_6cd28abe_48fd_11e9_a862_9a0006404840row0_col3\" class=\"data row0 col3\" >0</td> \n",
       "        <td id=\"T_6cd28abe_48fd_11e9_a862_9a0006404840row0_col4\" class=\"data row0 col4\" >0</td> \n",
       "        <td id=\"T_6cd28abe_48fd_11e9_a862_9a0006404840row0_col5\" class=\"data row0 col5\" >25</td> \n",
       "        <td id=\"T_6cd28abe_48fd_11e9_a862_9a0006404840row0_col6\" class=\"data row0 col6\" >1</td> \n",
       "        <td id=\"T_6cd28abe_48fd_11e9_a862_9a0006404840row0_col7\" class=\"data row0 col7\" >3</td> \n",
       "        <td id=\"T_6cd28abe_48fd_11e9_a862_9a0006404840row0_col8\" class=\"data row0 col8\" >16</td> \n",
       "        <td id=\"T_6cd28abe_48fd_11e9_a862_9a0006404840row0_col9\" class=\"data row0 col9\" >0</td> \n",
       "        <td id=\"T_6cd28abe_48fd_11e9_a862_9a0006404840row0_col10\" class=\"data row0 col10\" >1</td> \n",
       "        <td id=\"T_6cd28abe_48fd_11e9_a862_9a0006404840row0_col11\" class=\"data row0 col11\" >12</td> \n",
       "        <td id=\"T_6cd28abe_48fd_11e9_a862_9a0006404840row0_col12\" class=\"data row0 col12\" >0</td> \n",
       "        <td id=\"T_6cd28abe_48fd_11e9_a862_9a0006404840row0_col13\" class=\"data row0 col13\" >1</td> \n",
       "        <td id=\"T_6cd28abe_48fd_11e9_a862_9a0006404840row0_col14\" class=\"data row0 col14\" >9</td> \n",
       "        <td id=\"T_6cd28abe_48fd_11e9_a862_9a0006404840row0_col15\" class=\"data row0 col15\" >0</td> \n",
       "        <td id=\"T_6cd28abe_48fd_11e9_a862_9a0006404840row0_col16\" class=\"data row0 col16\" >6</td> \n",
       "        <td id=\"T_6cd28abe_48fd_11e9_a862_9a0006404840row0_col17\" class=\"data row0 col17\" >1</td> \n",
       "        <td id=\"T_6cd28abe_48fd_11e9_a862_9a0006404840row0_col18\" class=\"data row0 col18\" >1</td> \n",
       "        <td id=\"T_6cd28abe_48fd_11e9_a862_9a0006404840row0_col19\" class=\"data row0 col19\" >0</td> \n",
       "        <td id=\"T_6cd28abe_48fd_11e9_a862_9a0006404840row0_col20\" class=\"data row0 col20\" >0</td> \n",
       "        <td id=\"T_6cd28abe_48fd_11e9_a862_9a0006404840row0_col21\" class=\"data row0 col21\" >0</td> \n",
       "        <td id=\"T_6cd28abe_48fd_11e9_a862_9a0006404840row0_col22\" class=\"data row0 col22\" >0</td> \n",
       "        <td id=\"T_6cd28abe_48fd_11e9_a862_9a0006404840row0_col23\" class=\"data row0 col23\" >0</td> \n",
       "        <td id=\"T_6cd28abe_48fd_11e9_a862_9a0006404840row0_col24\" class=\"data row0 col24\" >0</td> \n",
       "        <td id=\"T_6cd28abe_48fd_11e9_a862_9a0006404840row0_col25\" class=\"data row0 col25\" >0</td> \n",
       "        <td id=\"T_6cd28abe_48fd_11e9_a862_9a0006404840row0_col26\" class=\"data row0 col26\" >81</td> \n",
       "    </tr>    <tr> \n",
       "        <th id=\"T_6cd28abe_48fd_11e9_a862_9a0006404840level1_row1\" class=\"row_heading level1 row1\" >1</th> \n",
       "        <td id=\"T_6cd28abe_48fd_11e9_a862_9a0006404840row1_col0\" class=\"data row1 col0\" >0</td> \n",
       "        <td id=\"T_6cd28abe_48fd_11e9_a862_9a0006404840row1_col1\" class=\"data row1 col1\" >4</td> \n",
       "        <td id=\"T_6cd28abe_48fd_11e9_a862_9a0006404840row1_col2\" class=\"data row1 col2\" >8</td> \n",
       "        <td id=\"T_6cd28abe_48fd_11e9_a862_9a0006404840row1_col3\" class=\"data row1 col3\" >13</td> \n",
       "        <td id=\"T_6cd28abe_48fd_11e9_a862_9a0006404840row1_col4\" class=\"data row1 col4\" >8</td> \n",
       "        <td id=\"T_6cd28abe_48fd_11e9_a862_9a0006404840row1_col5\" class=\"data row1 col5\" >32</td> \n",
       "        <td id=\"T_6cd28abe_48fd_11e9_a862_9a0006404840row1_col6\" class=\"data row1 col6\" >15</td> \n",
       "        <td id=\"T_6cd28abe_48fd_11e9_a862_9a0006404840row1_col7\" class=\"data row1 col7\" >24</td> \n",
       "        <td id=\"T_6cd28abe_48fd_11e9_a862_9a0006404840row1_col8\" class=\"data row1 col8\" >15</td> \n",
       "        <td id=\"T_6cd28abe_48fd_11e9_a862_9a0006404840row1_col9\" class=\"data row1 col9\" >28</td> \n",
       "        <td id=\"T_6cd28abe_48fd_11e9_a862_9a0006404840row1_col10\" class=\"data row1 col10\" >16</td> \n",
       "        <td id=\"T_6cd28abe_48fd_11e9_a862_9a0006404840row1_col11\" class=\"data row1 col11\" >13</td> \n",
       "        <td id=\"T_6cd28abe_48fd_11e9_a862_9a0006404840row1_col12\" class=\"data row1 col12\" >21</td> \n",
       "        <td id=\"T_6cd28abe_48fd_11e9_a862_9a0006404840row1_col13\" class=\"data row1 col13\" >9</td> \n",
       "        <td id=\"T_6cd28abe_48fd_11e9_a862_9a0006404840row1_col14\" class=\"data row1 col14\" >0</td> \n",
       "        <td id=\"T_6cd28abe_48fd_11e9_a862_9a0006404840row1_col15\" class=\"data row1 col15\" >4</td> \n",
       "        <td id=\"T_6cd28abe_48fd_11e9_a862_9a0006404840row1_col16\" class=\"data row1 col16\" >3</td> \n",
       "        <td id=\"T_6cd28abe_48fd_11e9_a862_9a0006404840row1_col17\" class=\"data row1 col17\" >11</td> \n",
       "        <td id=\"T_6cd28abe_48fd_11e9_a862_9a0006404840row1_col18\" class=\"data row1 col18\" >5</td> \n",
       "        <td id=\"T_6cd28abe_48fd_11e9_a862_9a0006404840row1_col19\" class=\"data row1 col19\" >0</td> \n",
       "        <td id=\"T_6cd28abe_48fd_11e9_a862_9a0006404840row1_col20\" class=\"data row1 col20\" >3</td> \n",
       "        <td id=\"T_6cd28abe_48fd_11e9_a862_9a0006404840row1_col21\" class=\"data row1 col21\" >0</td> \n",
       "        <td id=\"T_6cd28abe_48fd_11e9_a862_9a0006404840row1_col22\" class=\"data row1 col22\" >1</td> \n",
       "        <td id=\"T_6cd28abe_48fd_11e9_a862_9a0006404840row1_col23\" class=\"data row1 col23\" >0</td> \n",
       "        <td id=\"T_6cd28abe_48fd_11e9_a862_9a0006404840row1_col24\" class=\"data row1 col24\" >0</td> \n",
       "        <td id=\"T_6cd28abe_48fd_11e9_a862_9a0006404840row1_col25\" class=\"data row1 col25\" >0</td> \n",
       "        <td id=\"T_6cd28abe_48fd_11e9_a862_9a0006404840row1_col26\" class=\"data row1 col26\" >233</td> \n",
       "    </tr>    <tr> \n",
       "        <th id=\"T_6cd28abe_48fd_11e9_a862_9a0006404840level0_row2\" class=\"row_heading level0 row2\" rowspan=2>male</th> \n",
       "        <th id=\"T_6cd28abe_48fd_11e9_a862_9a0006404840level1_row2\" class=\"row_heading level1 row2\" >0</th> \n",
       "        <td id=\"T_6cd28abe_48fd_11e9_a862_9a0006404840row2_col0\" class=\"data row2 col0\" >0</td> \n",
       "        <td id=\"T_6cd28abe_48fd_11e9_a862_9a0006404840row2_col1\" class=\"data row2 col1\" >0</td> \n",
       "        <td id=\"T_6cd28abe_48fd_11e9_a862_9a0006404840row2_col2\" class=\"data row2 col2\" >10</td> \n",
       "        <td id=\"T_6cd28abe_48fd_11e9_a862_9a0006404840row2_col3\" class=\"data row2 col3\" >3</td> \n",
       "        <td id=\"T_6cd28abe_48fd_11e9_a862_9a0006404840row2_col4\" class=\"data row2 col4\" >9</td> \n",
       "        <td id=\"T_6cd28abe_48fd_11e9_a862_9a0006404840row2_col5\" class=\"data row2 col5\" >38</td> \n",
       "        <td id=\"T_6cd28abe_48fd_11e9_a862_9a0006404840row2_col6\" class=\"data row2 col6\" >9</td> \n",
       "        <td id=\"T_6cd28abe_48fd_11e9_a862_9a0006404840row2_col7\" class=\"data row2 col7\" >28</td> \n",
       "        <td id=\"T_6cd28abe_48fd_11e9_a862_9a0006404840row2_col8\" class=\"data row2 col8\" >169</td> \n",
       "        <td id=\"T_6cd28abe_48fd_11e9_a862_9a0006404840row2_col9\" class=\"data row2 col9\" >11</td> \n",
       "        <td id=\"T_6cd28abe_48fd_11e9_a862_9a0006404840row2_col10\" class=\"data row2 col10\" >35</td> \n",
       "        <td id=\"T_6cd28abe_48fd_11e9_a862_9a0006404840row2_col11\" class=\"data row2 col11\" >45</td> \n",
       "        <td id=\"T_6cd28abe_48fd_11e9_a862_9a0006404840row2_col12\" class=\"data row2 col12\" >30</td> \n",
       "        <td id=\"T_6cd28abe_48fd_11e9_a862_9a0006404840row2_col13\" class=\"data row2 col13\" >7</td> \n",
       "        <td id=\"T_6cd28abe_48fd_11e9_a862_9a0006404840row2_col14\" class=\"data row2 col14\" >23</td> \n",
       "        <td id=\"T_6cd28abe_48fd_11e9_a862_9a0006404840row2_col15\" class=\"data row2 col15\" >0</td> \n",
       "        <td id=\"T_6cd28abe_48fd_11e9_a862_9a0006404840row2_col16\" class=\"data row2 col16\" >5</td> \n",
       "        <td id=\"T_6cd28abe_48fd_11e9_a862_9a0006404840row2_col17\" class=\"data row2 col17\" >12</td> \n",
       "        <td id=\"T_6cd28abe_48fd_11e9_a862_9a0006404840row2_col18\" class=\"data row2 col18\" >9</td> \n",
       "        <td id=\"T_6cd28abe_48fd_11e9_a862_9a0006404840row2_col19\" class=\"data row2 col19\" >6</td> \n",
       "        <td id=\"T_6cd28abe_48fd_11e9_a862_9a0006404840row2_col20\" class=\"data row2 col20\" >9</td> \n",
       "        <td id=\"T_6cd28abe_48fd_11e9_a862_9a0006404840row2_col21\" class=\"data row2 col21\" >2</td> \n",
       "        <td id=\"T_6cd28abe_48fd_11e9_a862_9a0006404840row2_col22\" class=\"data row2 col22\" >2</td> \n",
       "        <td id=\"T_6cd28abe_48fd_11e9_a862_9a0006404840row2_col23\" class=\"data row2 col23\" >3</td> \n",
       "        <td id=\"T_6cd28abe_48fd_11e9_a862_9a0006404840row2_col24\" class=\"data row2 col24\" >1</td> \n",
       "        <td id=\"T_6cd28abe_48fd_11e9_a862_9a0006404840row2_col25\" class=\"data row2 col25\" >2</td> \n",
       "        <td id=\"T_6cd28abe_48fd_11e9_a862_9a0006404840row2_col26\" class=\"data row2 col26\" >468</td> \n",
       "    </tr>    <tr> \n",
       "        <th id=\"T_6cd28abe_48fd_11e9_a862_9a0006404840level1_row3\" class=\"row_heading level1 row3\" >1</th> \n",
       "        <td id=\"T_6cd28abe_48fd_11e9_a862_9a0006404840row3_col0\" class=\"data row3 col0\" >2</td> \n",
       "        <td id=\"T_6cd28abe_48fd_11e9_a862_9a0006404840row3_col1\" class=\"data row3 col1\" >8</td> \n",
       "        <td id=\"T_6cd28abe_48fd_11e9_a862_9a0006404840row3_col2\" class=\"data row3 col2\" >7</td> \n",
       "        <td id=\"T_6cd28abe_48fd_11e9_a862_9a0006404840row3_col3\" class=\"data row3 col3\" >2</td> \n",
       "        <td id=\"T_6cd28abe_48fd_11e9_a862_9a0006404840row3_col4\" class=\"data row3 col4\" >1</td> \n",
       "        <td id=\"T_6cd28abe_48fd_11e9_a862_9a0006404840row3_col5\" class=\"data row3 col5\" >4</td> \n",
       "        <td id=\"T_6cd28abe_48fd_11e9_a862_9a0006404840row3_col6\" class=\"data row3 col6\" >9</td> \n",
       "        <td id=\"T_6cd28abe_48fd_11e9_a862_9a0006404840row3_col7\" class=\"data row3 col7\" >0</td> \n",
       "        <td id=\"T_6cd28abe_48fd_11e9_a862_9a0006404840row3_col8\" class=\"data row3 col8\" >23</td> \n",
       "        <td id=\"T_6cd28abe_48fd_11e9_a862_9a0006404840row3_col9\" class=\"data row3 col9\" >12</td> \n",
       "        <td id=\"T_6cd28abe_48fd_11e9_a862_9a0006404840row3_col10\" class=\"data row3 col10\" >5</td> \n",
       "        <td id=\"T_6cd28abe_48fd_11e9_a862_9a0006404840row3_col11\" class=\"data row3 col11\" >8</td> \n",
       "        <td id=\"T_6cd28abe_48fd_11e9_a862_9a0006404840row3_col12\" class=\"data row3 col12\" >14</td> \n",
       "        <td id=\"T_6cd28abe_48fd_11e9_a862_9a0006404840row3_col13\" class=\"data row3 col13\" >1</td> \n",
       "        <td id=\"T_6cd28abe_48fd_11e9_a862_9a0006404840row3_col14\" class=\"data row3 col14\" >2</td> \n",
       "        <td id=\"T_6cd28abe_48fd_11e9_a862_9a0006404840row3_col15\" class=\"data row3 col15\" >1</td> \n",
       "        <td id=\"T_6cd28abe_48fd_11e9_a862_9a0006404840row3_col16\" class=\"data row3 col16\" >3</td> \n",
       "        <td id=\"T_6cd28abe_48fd_11e9_a862_9a0006404840row3_col17\" class=\"data row3 col17\" >4</td> \n",
       "        <td id=\"T_6cd28abe_48fd_11e9_a862_9a0006404840row3_col18\" class=\"data row3 col18\" >0</td> \n",
       "        <td id=\"T_6cd28abe_48fd_11e9_a862_9a0006404840row3_col19\" class=\"data row3 col19\" >0</td> \n",
       "        <td id=\"T_6cd28abe_48fd_11e9_a862_9a0006404840row3_col20\" class=\"data row3 col20\" >1</td> \n",
       "        <td id=\"T_6cd28abe_48fd_11e9_a862_9a0006404840row3_col21\" class=\"data row3 col21\" >1</td> \n",
       "        <td id=\"T_6cd28abe_48fd_11e9_a862_9a0006404840row3_col22\" class=\"data row3 col22\" >0</td> \n",
       "        <td id=\"T_6cd28abe_48fd_11e9_a862_9a0006404840row3_col23\" class=\"data row3 col23\" >1</td> \n",
       "        <td id=\"T_6cd28abe_48fd_11e9_a862_9a0006404840row3_col24\" class=\"data row3 col24\" >0</td> \n",
       "        <td id=\"T_6cd28abe_48fd_11e9_a862_9a0006404840row3_col25\" class=\"data row3 col25\" >0</td> \n",
       "        <td id=\"T_6cd28abe_48fd_11e9_a862_9a0006404840row3_col26\" class=\"data row3 col26\" >109</td> \n",
       "    </tr>    <tr> \n",
       "        <th id=\"T_6cd28abe_48fd_11e9_a862_9a0006404840level0_row4\" class=\"row_heading level0 row4\" >All</th> \n",
       "        <th id=\"T_6cd28abe_48fd_11e9_a862_9a0006404840level1_row4\" class=\"row_heading level1 row4\" ></th> \n",
       "        <td id=\"T_6cd28abe_48fd_11e9_a862_9a0006404840row4_col0\" class=\"data row4 col0\" >3</td> \n",
       "        <td id=\"T_6cd28abe_48fd_11e9_a862_9a0006404840row4_col1\" class=\"data row4 col1\" >12</td> \n",
       "        <td id=\"T_6cd28abe_48fd_11e9_a862_9a0006404840row4_col2\" class=\"data row4 col2\" >29</td> \n",
       "        <td id=\"T_6cd28abe_48fd_11e9_a862_9a0006404840row4_col3\" class=\"data row4 col3\" >18</td> \n",
       "        <td id=\"T_6cd28abe_48fd_11e9_a862_9a0006404840row4_col4\" class=\"data row4 col4\" >18</td> \n",
       "        <td id=\"T_6cd28abe_48fd_11e9_a862_9a0006404840row4_col5\" class=\"data row4 col5\" >99</td> \n",
       "        <td id=\"T_6cd28abe_48fd_11e9_a862_9a0006404840row4_col6\" class=\"data row4 col6\" >34</td> \n",
       "        <td id=\"T_6cd28abe_48fd_11e9_a862_9a0006404840row4_col7\" class=\"data row4 col7\" >55</td> \n",
       "        <td id=\"T_6cd28abe_48fd_11e9_a862_9a0006404840row4_col8\" class=\"data row4 col8\" >223</td> \n",
       "        <td id=\"T_6cd28abe_48fd_11e9_a862_9a0006404840row4_col9\" class=\"data row4 col9\" >51</td> \n",
       "        <td id=\"T_6cd28abe_48fd_11e9_a862_9a0006404840row4_col10\" class=\"data row4 col10\" >57</td> \n",
       "        <td id=\"T_6cd28abe_48fd_11e9_a862_9a0006404840row4_col11\" class=\"data row4 col11\" >78</td> \n",
       "        <td id=\"T_6cd28abe_48fd_11e9_a862_9a0006404840row4_col12\" class=\"data row4 col12\" >65</td> \n",
       "        <td id=\"T_6cd28abe_48fd_11e9_a862_9a0006404840row4_col13\" class=\"data row4 col13\" >18</td> \n",
       "        <td id=\"T_6cd28abe_48fd_11e9_a862_9a0006404840row4_col14\" class=\"data row4 col14\" >34</td> \n",
       "        <td id=\"T_6cd28abe_48fd_11e9_a862_9a0006404840row4_col15\" class=\"data row4 col15\" >5</td> \n",
       "        <td id=\"T_6cd28abe_48fd_11e9_a862_9a0006404840row4_col16\" class=\"data row4 col16\" >17</td> \n",
       "        <td id=\"T_6cd28abe_48fd_11e9_a862_9a0006404840row4_col17\" class=\"data row4 col17\" >28</td> \n",
       "        <td id=\"T_6cd28abe_48fd_11e9_a862_9a0006404840row4_col18\" class=\"data row4 col18\" >15</td> \n",
       "        <td id=\"T_6cd28abe_48fd_11e9_a862_9a0006404840row4_col19\" class=\"data row4 col19\" >6</td> \n",
       "        <td id=\"T_6cd28abe_48fd_11e9_a862_9a0006404840row4_col20\" class=\"data row4 col20\" >13</td> \n",
       "        <td id=\"T_6cd28abe_48fd_11e9_a862_9a0006404840row4_col21\" class=\"data row4 col21\" >3</td> \n",
       "        <td id=\"T_6cd28abe_48fd_11e9_a862_9a0006404840row4_col22\" class=\"data row4 col22\" >3</td> \n",
       "        <td id=\"T_6cd28abe_48fd_11e9_a862_9a0006404840row4_col23\" class=\"data row4 col23\" >4</td> \n",
       "        <td id=\"T_6cd28abe_48fd_11e9_a862_9a0006404840row4_col24\" class=\"data row4 col24\" >1</td> \n",
       "        <td id=\"T_6cd28abe_48fd_11e9_a862_9a0006404840row4_col25\" class=\"data row4 col25\" >2</td> \n",
       "        <td id=\"T_6cd28abe_48fd_11e9_a862_9a0006404840row4_col26\" class=\"data row4 col26\" >891</td> \n",
       "    </tr></tbody> \n",
       "</table> "
      ],
      "text/plain": [
       "<pandas.io.formats.style.Styler at 0x11adba668>"
      ]
     },
     "execution_count": 39,
     "metadata": {},
     "output_type": "execute_result"
    }
   ],
   "source": [
    "# Create a crosstab with Age Groups, Pclass, Sex and Survived categories:\n",
    "pd.crosstab([titanic_df.Sex, titanic_df.Survived], \n",
    "            [titanic_df['Age Groups'], titanic_df.Pclass],\n",
    "             margins=True).style.background_gradient(cmap='autumn_r')\n"
   ]
  },
  {
   "cell_type": "code",
   "execution_count": 40,
   "metadata": {},
   "outputs": [
    {
     "name": "stdout",
     "output_type": "stream",
     "text": [
      "The chance that a woman in her 30's with a 2nd class ticket survies is:  94.12 %\n",
      "None\n"
     ]
    }
   ],
   "source": [
    "chance = round(16/17*100, 2)\n",
    "print(print(\"The chance that a woman in her 30's with a 2nd class ticket survies is: \" , chance,'%'))"
   ]
  },
  {
   "cell_type": "markdown",
   "metadata": {},
   "source": [
    "##### Which variable has the highest impact when considering the likelihood of survival? "
   ]
  },
  {
   "cell_type": "markdown",
   "metadata": {},
   "source": [
    "We can obtain this information from correlation. We will create a heatmap to show correlation between our variables/features:"
   ]
  },
  {
   "cell_type": "code",
   "execution_count": 41,
   "metadata": {},
   "outputs": [],
   "source": [
    "# We can drop PassengerId, as this is only for ML purpose created feature.\n",
    "titanic = titanic_df.drop(['PassengerId'], axis = 1)"
   ]
  },
  {
   "cell_type": "code",
   "execution_count": 42,
   "metadata": {},
   "outputs": [],
   "source": [
    "# Change sex column to binary values 0 and 1: \n",
    "titanic['Sex'] = titanic['Sex'].map({'male':0, 'female':1})"
   ]
  },
  {
   "cell_type": "code",
   "execution_count": 43,
   "metadata": {},
   "outputs": [
    {
     "data": {
      "text/plain": [
       "Text(0.5, 1.0, 'Correlation for Titanic Features')"
      ]
     },
     "execution_count": 43,
     "metadata": {},
     "output_type": "execute_result"
    },
    {
     "data": {
      "image/png": "[encoded data removed]",
      "text/plain": [
       "<Figure size 576x432 with 2 Axes>"
      ]
     },
     "metadata": {
      "needs_background": "light"
     },
     "output_type": "display_data"
    }
   ],
   "source": [
    "# Correlation between all features:\n",
    "\n",
    "plt.figure(figsize = (8,6))\n",
    "sns.heatmap(titanic.corr(), annot=True, cmap='YlGnBu', linecolor=\"white\")\n",
    "\n",
    "# Adding title to the heatmap:\n",
    "plt.title('Correlation for Titanic Features')"
   ]
  },
  {
   "cell_type": "markdown",
   "metadata": {},
   "source": [
    "The variable that has the highest impact on a likelihood of survival is 'Sex', followed by 'Pclass' and 'Fare'."
   ]
  }
 ],
 "metadata": {
  "kernelspec": {
   "display_name": "Python 3",
   "language": "python",
   "name": "python3"
  },
  "language_info": {
   "codemirror_mode": {
    "name": "ipython",
    "version": 3
   },
   "file_extension": ".py",
   "mimetype": "text/x-python",
   "name": "python",
   "nbconvert_exporter": "python",
   "pygments_lexer": "ipython3",
   "version": "3.6.4"
  }
 },
 "nbformat": 4,
 "nbformat_minor": 2
}
